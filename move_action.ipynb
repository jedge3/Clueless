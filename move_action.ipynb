{
 "cells": [
  {
   "cell_type": "code",
   "execution_count": 1,
   "id": "56b902fc",
   "metadata": {},
   "outputs": [],
   "source": [
    "import random\n",
    "\n",
    "ROOM_NAMES = [\"Study\", \"Hall\", \"Lounge\", \"Library\", \"Billard Room\", \"Dining Room\", \"Conservatory\", \"Ball Room\", \"Kitchen\"]\n",
    "WEAPON_NAMES = [\"Rope\", \"Lead Pipe\", \"Knife\", \"Wrench\", \"Candlestick\", \"Revolver\"]\n",
    "CHARACTER_NAMES = [\"Col. Mustard\", \"Miss Scarlet\", \"Prof. Plum\", \"Mr. Green\", \"Mrs. White\", \"Mrs. Peacock\"]\n",
    "START_HALLWAYS = [4, 1, 2, 10, 11, 7]\n",
    "\n",
    "class Character():\n",
    "    def __init__(self, name):\n",
    "        self.name = name\n",
    "        self.position = None\n",
    "        self.cards = []\n",
    "\n",
    "\n",
    "\n",
    "class Room():\n",
    "    def __init__(self, name):\n",
    "        self.name = name\n",
    "        self.hallways = []\n",
    "        self.secret_pathway = None # holds the room you will move to from the secret hallway\n",
    "\n",
    "\n",
    "\n",
    "class Hallway():\n",
    "    def __init__(self, room1, room2):\n",
    "        self.rooms = (room1, room2)\n",
    "        room1.hallways.append(self)\n",
    "        room2.hallways.append(self)\n",
    "        self.occupied = False # True if a character is in the hallway\n",
    "\n"
   ]
  },
  {
   "cell_type": "code",
   "execution_count": 2,
   "id": "ef7cf838",
   "metadata": {},
   "outputs": [
    {
     "name": "stdout",
     "output_type": "stream",
     "text": [
      "murder room: Dining Room\n",
      "murder weapon: Candlestick\n",
      "murderer: Col. Mustard\n"
     ]
    }
   ],
   "source": [
    "murder_room = random.choice(ROOM_NAMES)\n",
    "murder_weapon = random.choice(WEAPON_NAMES)\n",
    "murder_character = random.choice(CHARACTER_NAMES)\n",
    "\n",
    "print(f\"murder room: {murder_room}\\nmurder weapon: {murder_weapon}\\nmurderer: {murder_character}\")"
   ]
  },
  {
   "cell_type": "code",
   "execution_count": 5,
   "id": "5a68d886",
   "metadata": {},
   "outputs": [],
   "source": [
    "rooms = {}\n",
    "for room in ROOM_NAMES:\n",
    "        rooms[room] = Room(room)\n",
    "rooms[\"Study\"].secret_pathway = rooms[\"Kitchen\"]\n",
    "rooms[\"Kitchen\"].secret_pathway = rooms[\"Study\"]\n",
    "rooms[\"Lounge\"].secret_pathway = rooms[\"Conservatory\"]\n",
    "rooms[\"Conservatory\"].secret_pathway = rooms[\"Lounge\"]\n",
    "\n",
    "# for room in rooms.values():\n",
    "#         print(room.name)\n",
    "\n",
    "hallways = [\n",
    "            Hallway(rooms[\"Study\"], rooms[\"Hall\"]),\n",
    "            Hallway(rooms[\"Hall\"], rooms[\"Lounge\"]),\n",
    "            Hallway(rooms[\"Study\"], rooms[\"Library\"]),\n",
    "            Hallway(rooms[\"Hall\"], rooms[\"Billard Room\"]),\n",
    "            Hallway(rooms[\"Lounge\"], rooms[\"Dining Room\"]),\n",
    "            Hallway(rooms[\"Library\"], rooms[\"Billard Room\"]),\n",
    "            Hallway(rooms[\"Billard Room\"], rooms[\"Dining Room\"]),\n",
    "            Hallway(rooms[\"Library\"], rooms[\"Conservatory\"]),\n",
    "            Hallway(rooms[\"Billard Room\"], rooms[\"Ball Room\"]),\n",
    "            Hallway(rooms[\"Dining Room\"], rooms[\"Kitchen\"]),\n",
    "            Hallway(rooms[\"Conservatory\"], rooms[\"Ball Room\"]),\n",
    "            Hallway(rooms[\"Ball Room\"], rooms[\"Kitchen\"]),\n",
    "        ]\n",
    "\n",
    "# for i, hallway in enumerate(hallways):\n",
    "#     print(f\"{i}: {hallway.rooms[0].name} <-> {hallway.rooms[1].name}\")\n",
    "\n",
    "deck = ROOM_NAMES + WEAPON_NAMES + CHARACTER_NAMES\n",
    "deck.remove(murder_room)\n",
    "deck.remove(murder_weapon)\n",
    "deck.remove(murder_character)\n",
    "\n",
    "# print(deck)\n"
   ]
  },
  {
   "cell_type": "code",
   "execution_count": 6,
   "id": "971559c3",
   "metadata": {},
   "outputs": [],
   "source": [
    "# hardcoded player_list\n",
    "characters = {}\n",
    "\n",
    "player_list = [0, 1, 2, 3, 4, 5]\n",
    "for i, player_id in enumerate(player_list):\n",
    "    characters[player_id] = Character(CHARACTER_NAMES[i])\n",
    "    hallways[START_HALLWAYS[i]].occupied = True\n",
    "    characters[player_id].position = hallways[START_HALLWAYS[i]]\n",
    "    \n",
    "\n",
    "\n",
    "    for i in range(3):\n",
    "        card = random.choice(deck)\n",
    "        deck.remove(card)\n",
    "        characters[player_id].cards.append(card)"
   ]
  },
  {
   "cell_type": "code",
   "execution_count": 7,
   "id": "a5c2eafe",
   "metadata": {},
   "outputs": [
    {
     "name": "stdout",
     "output_type": "stream",
     "text": [
      "Player 1:\n",
      "character: Col. Mustard\n",
      "position: Lounge <-> Dining Room\n",
      "hand: ['Mr. Green', 'Wrench', 'Billard Room']\n",
      "\n",
      "Player 2:\n",
      "character: Miss Scarlet\n",
      "position: Hall <-> Lounge\n",
      "hand: ['Mrs. White', 'Lounge', 'Mrs. Peacock']\n",
      "\n",
      "Player 3:\n",
      "character: Prof. Plum\n",
      "position: Study <-> Library\n",
      "hand: ['Prof. Plum', 'Knife', 'Library']\n",
      "\n",
      "Player 4:\n",
      "character: Mr. Green\n",
      "position: Conservatory <-> Ball Room\n",
      "hand: ['Study', 'Miss Scarlet', 'Revolver']\n",
      "\n",
      "Player 5:\n",
      "character: Mrs. White\n",
      "position: Ball Room <-> Kitchen\n",
      "hand: ['Kitchen', 'Ball Room', 'Hall']\n",
      "\n",
      "Player 6:\n",
      "character: Mrs. Peacock\n",
      "position: Library <-> Conservatory\n",
      "hand: ['Conservatory', 'Rope', 'Lead Pipe']\n",
      "\n"
     ]
    }
   ],
   "source": [
    "for i, character in enumerate(characters):\n",
    "    print(f'Player {i+1}:')\n",
    "    print(f\"character: {characters[character].name}\")\n",
    "    print(f\"position: {characters[character].position.rooms[0].name} <-> {characters[character].position.rooms[1].name}\")\n",
    "    print(f\"hand: {characters[character].cards}\")\n",
    "    print()"
   ]
  },
  {
   "cell_type": "code",
   "execution_count": 9,
   "id": "28cf0ed3",
   "metadata": {},
   "outputs": [],
   "source": [
    "def move(character):\n",
    "    while True:\n",
    "        if type(character.position) is Hallway:\n",
    "            print(\"Possible moves:\")\n",
    "            print(f\"1. {character.position.rooms[0].name}\\n2. {character.position.rooms[1].name}\")\n",
    "\n",
    "            choice = int(input(\"Enter your choice (type the option number): \"))\n",
    "\n",
    "            if choice == 1:\n",
    "                # character_old_position = character.position\n",
    "                character.position.occupied = False\n",
    "                character.position = character.position.rooms[0]\n",
    "                break\n",
    "\n",
    "            elif choice == 2:\n",
    "                # character_old_position = character.position\n",
    "                character.position.occupied = False\n",
    "                character.position = character.position.rooms[1]\n",
    "                break\n",
    "\n",
    "            else:\n",
    "                print(\"Invalid choice. Try again.\")\n",
    "        \n",
    "        elif type(character.position) is Room:\n",
    "            print(f\"Connected Hallways/Rooms (Via Secret Pathway):\")\n",
    "            for i in range(len(character.position.hallways)):\n",
    "                print(f\"{i+1}. {character.position.hallways[i].rooms[0].name} <-> {character.position.hallways[i].rooms[1].name}\")\n",
    "\n",
    "            if character.position.secret_pathway is not None:\n",
    "                print(f\"{len(character.position.hallways)+1}. {character.position.secret_pathway.name} (Secret Pathway)\")\n",
    "            \n",
    "            choice = int(input(\"Enter your choice (type the option number): \"))\n",
    "\n",
    "            if choice-1 in range(len(character.position.hallways)):\n",
    "                if character.position.hallways[choice - 1].occupied:\n",
    "                    print(\"This hallway is already occupied. You cannot move here.\\n\")\n",
    "                else:\n",
    "                    character.position = character.position.hallways[choice-1]\n",
    "                    character.position.occupied = True\n",
    "                    break\n",
    "\n",
    "            elif choice - 1 == len(character.position.hallways): \n",
    "                 characters[0].position = characters[0].position.secret_pathway\n",
    "                 break\n",
    "\n",
    "            else:\n",
    "                print(\"invalid choice\")\n",
    "\n",
    "    print()\n",
    "    print(f\"Character Name: {character.name}\")\n",
    "    if type(character.position) is Room:\n",
    "        print(f\"position: {character.position.name}\")\n",
    "    else:\n",
    "        print(f\"position: {character.position.rooms[0].name} <-> {character.position.rooms[1].name}\")\n",
    "    print(f\"{type(character.position)}\")"
   ]
  },
  {
   "cell_type": "markdown",
   "id": "39587768",
   "metadata": {},
   "source": [
    "Move Miss Scarlet from hallway to Hall"
   ]
  },
  {
   "cell_type": "code",
   "execution_count": 10,
   "id": "99d6fd5b",
   "metadata": {},
   "outputs": [
    {
     "name": "stdout",
     "output_type": "stream",
     "text": [
      "Possible moves:\n",
      "1. Hall\n",
      "2. Lounge\n",
      "\n",
      "Character Name: Miss Scarlet\n",
      "position: Hall\n",
      "<class '__main__.Room'>\n"
     ]
    }
   ],
   "source": [
    "move(characters[1])"
   ]
  },
  {
   "cell_type": "markdown",
   "id": "505e83b5",
   "metadata": {},
   "source": [
    "Move Col. Mustard from hallway to Lounge"
   ]
  },
  {
   "cell_type": "code",
   "execution_count": 11,
   "id": "47758931",
   "metadata": {},
   "outputs": [
    {
     "name": "stdout",
     "output_type": "stream",
     "text": [
      "Possible moves:\n",
      "1. Lounge\n",
      "2. Dining Room\n",
      "\n",
      "Character Name: Col. Mustard\n",
      "position: Lounge\n",
      "<class '__main__.Room'>\n"
     ]
    }
   ],
   "source": [
    "move(characters[0])"
   ]
  },
  {
   "cell_type": "markdown",
   "id": "6a5fcf50",
   "metadata": {},
   "source": [
    "Move Miss Scarlet to Hallway (Hall <-> Lounge)"
   ]
  },
  {
   "cell_type": "code",
   "execution_count": 12,
   "id": "2b7e2b4b",
   "metadata": {},
   "outputs": [
    {
     "name": "stdout",
     "output_type": "stream",
     "text": [
      "Connected Hallways/Rooms (Via Secret Pathway):\n",
      "1. Study <-> Hall\n",
      "2. Hall <-> Lounge\n",
      "3. Hall <-> Billard Room\n",
      "\n",
      "Character Name: Miss Scarlet\n",
      "position: Hall <-> Lounge\n",
      "<class '__main__.Hallway'>\n"
     ]
    }
   ],
   "source": [
    "move(characters[1])"
   ]
  },
  {
   "cell_type": "markdown",
   "id": "18d0de56",
   "metadata": {},
   "source": [
    "Move Col. Mustard to Hallway (Hall <-> Lounge). \n",
    "Will not be possible, hence must choose another destination. \n",
    "New destination is Conservatory via secret passageway"
   ]
  },
  {
   "cell_type": "code",
   "execution_count": 13,
   "id": "e4029de3",
   "metadata": {},
   "outputs": [
    {
     "name": "stdout",
     "output_type": "stream",
     "text": [
      "Connected Hallways/Rooms (Via Secret Pathway):\n",
      "1. Hall <-> Lounge\n",
      "2. Lounge <-> Dining Room\n",
      "3. Conservatory (Secret Pathway)\n",
      "This hallway is already occupied. You cannot move here.\n",
      "\n",
      "Connected Hallways/Rooms (Via Secret Pathway):\n",
      "1. Hall <-> Lounge\n",
      "2. Lounge <-> Dining Room\n",
      "3. Conservatory (Secret Pathway)\n",
      "\n",
      "Character Name: Col. Mustard\n",
      "position: Conservatory\n",
      "<class '__main__.Room'>\n"
     ]
    }
   ],
   "source": [
    "move(characters[0])"
   ]
  }
 ],
 "metadata": {
  "kernelspec": {
   "display_name": "base",
   "language": "python",
   "name": "python3"
  },
  "language_info": {
   "codemirror_mode": {
    "name": "ipython",
    "version": 3
   },
   "file_extension": ".py",
   "mimetype": "text/x-python",
   "name": "python",
   "nbconvert_exporter": "python",
   "pygments_lexer": "ipython3",
   "version": "3.12.4"
  }
 },
 "nbformat": 4,
 "nbformat_minor": 5
}
